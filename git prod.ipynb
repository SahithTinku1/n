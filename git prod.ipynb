{
 "cells": [
  {
   "cell_type": "code",
   "execution_count": null,
   "metadata": {},
   "outputs": [],
   "source": [
    "pip install kafka-python\n",
    "import pandas as pd\n",
    "from kafka import KafkaProducer\n",
    "from time import sleep\n",
    "from json import dumps\n",
    "import json\n",
    "producer = KafkaProducer(bootstrap_servers=[':9092'], #change ip here\n",
    "                         value_serializer=lambda x: \n",
    "                         dumps(x).encode('utf-8'))\n",
    "producer.send('demo_testing', value={'surnasdasdame':'parasdasdmar'})\n",
    "# to do by reading csv\n",
    "df = pd.read_csv(\"data/indexProcessed.csv\")\n",
    "df.head()\n",
    "while True:\n",
    "    dict_stock = df.sample(1).to_dict(orient=\"records\")[0]\n",
    "    producer.send('demo_test', value=dict_stock)\n",
    "    sleep(1)\n",
    "producer.flush() #clear data from kafka server"
   ]
  },
  {
   "cell_type": "code",
   "execution_count": null,
   "metadata": {},
   "outputs": [],
   "source": [
    "s3 = S3FileSystem()\n",
    "for count, i in enumerate(consumer):\n",
    "    with s3.open(\"s3://' bucket name '/stock_market_{}.json\".format(count), 'w') as file:\n",
    "        json.dump(i.value, file)    "
   ]
  },
  {
   "cell_type": "code",
   "execution_count": null,
   "metadata": {},
   "outputs": [],
   "source": [
    "from kafka import KafkaProducer\n",
    "import yfinance as yf\n",
    "import json\n",
    "import time\n",
    "# to do directly by importing yfinnace data\n",
    "producer = KafkaProducer(\n",
    "    bootstrap_servers=':9092',\n",
    "    value_serializer=lambda v: json.dumps(v).encode('utf-8')\n",
    ")\n",
    "\n",
    "ticker = 'AAPL'\n",
    "\n",
    "while True:\n",
    "    stock = yf.Ticker(ticker)\n",
    "    hist = stock.history(period=\"1d\", interval=\"1m\")\n",
    "    \n",
    "    if not hist.empty:\n",
    "        latest = hist.iloc[-1].to_dict()\n",
    "        latest['symbol'] = ticker\n",
    "        producer.send('stock-topic', value=latest)\n",
    "        print(f\"Sent: {latest}\")\n",
    "    \n",
    "    time.sleep(5)\n"
   ]
  }
 ],
 "metadata": {
  "language_info": {
   "name": "python"
  }
 },
 "nbformat": 4,
 "nbformat_minor": 2
}
